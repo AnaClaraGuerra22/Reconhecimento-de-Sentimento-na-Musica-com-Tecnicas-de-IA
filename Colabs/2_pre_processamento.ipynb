{
  "nbformat": 4,
  "nbformat_minor": 0,
  "metadata": {
    "colab": {
      "provenance": []
    },
    "kernelspec": {
      "name": "python3",
      "display_name": "Python 3"
    },
    "language_info": {
      "name": "python"
    }
  },
  "cells": [
    {
      "cell_type": "markdown",
      "source": [
        "# DataFrame\n",
        "\n",
        " Usando Pandas, vai ler cada CSV e combinando-os em um único DataFrame.\n",
        "\n",
        "1078 musicas\n",
        "\n",
        "\n",
        "DataFrame combinado: (628446, 9) 628446 linhas e 9 colunas\n",
        "\n",
        "Cada linha nesse DataFrame representa uma mensagem MIDI individual, capturando um evento específico dentro da música, e não uma música inteira\n",
        "\n",
        "Formato do DataFrame merged_df: (628446, 10)"
      ],
      "metadata": {
        "id": "qgpy-FfzgIQr"
      }
    },
    {
      "cell_type": "markdown",
      "source": [
        "# Colunas e Tipos de Dados:\n",
        "\n",
        "\n",
        "*   **track** (int): Indica a trilha MIDI à qual a mensagem pertence, sendo um número inteiro (0 para a primeira trilha, 1 para a segunda, etc.).\n",
        "\n",
        "*   **time** (float): Representa o tempo acumulado em segundos desde o início da música até o evento da mensagem MIDI, um valor de ponto flutuante que permite precisão temporal.\n",
        "\n",
        "*   **type** (object): Descreve o tipo de mensagem MIDI, como 'note_on' (nota tocada), 'note_off' (nota liberada), 'set_tempo' (mudança de andamento), e 'end_of_track' (fim da trilha), sendo um tipo de dado de objeto (string).\n",
        "\n",
        "*   **channel** (float): O canal MIDI (0-15) ao qual a mensagem se aplica. Valores NaN (Not a Number) podem aparecer para tipos de mensagem que não utilizam um canal (como set_tempo ou end_of_track).\n",
        "\n",
        "*   **note** (float): O número da nota MIDI (0-127), relevante para mensagens 'note_on' e 'note_off'. Para outros tipos de mensagens, o valor é NaN.\n",
        "\n",
        "*   **velocity** (float): A intensidade ou volume com que a nota é tocada (0-127), aplicado a mensagens 'note_on' e 'note_off'. Também pode ser NaN para mensagens não relacionadas a notas.\n",
        "\n",
        "*   **value** (float): Um valor genérico usado por outros tipos de mensagens MIDI, como control_change ou pitchwheel. Geralmente é NaN para mensagens de nota.\n",
        "\n",
        "*   **tempo** (float): O tempo da música em microssegundos por batida, relevante apenas para mensagens 'set_tempo'. Para a maioria das outras mensagens, será NaN.\n",
        "\n",
        "*   **music_name** (object): O nome original do arquivo MIDI (sem a extensão .csv), que foi adicionado durante o carregamento para identificar a qual música cada mensagem pertence. ***Esta coluna é crucial para associar os dados da música aos rótulos emocionais.***\n",
        "\n",
        "\n",
        "\n",
        "\n",
        "\n",
        "\n",
        "\n",
        "\n",
        "\n",
        "\n"
      ],
      "metadata": {
        "id": "G62K6iUih-C2"
      }
    },
    {
      "cell_type": "markdown",
      "source": [
        "# O QUE FOI FEITO\n",
        "\n",
        "\n",
        "*   Combinação dos CSVs: Todos os arquivos CSV individuais (resultantes da conversão MIDI) são lidos e concatenados em um único e grande DataFrame chamado combined_df. Este DataFrame representa cada mensagem MIDI individual como uma linha, contendo informações como tipo de evento, tempo, nota, velocidade, etc., e o nome da música à qual pertence (music_name)\n",
        "\n",
        "*   Carregamento e Pré-processamento dos Rótulos Emocionais: O arquivo label.csv fornecido pelo dataset EMOPIA é carregado. As colunas são inspecionadas e, crucialmente, a coluna ID é renomeada para music_name. Além disso, a categoria emocional (Q1, Q2, Q3 ou Q4) é extraída do music_name e salva em uma nova coluna emotion_quadrant, que servirá como o rótulo (variável alvo)\n",
        "\n",
        "\n",
        "*   Merge dos Dados MIDI com os Rótulos: O combined_df (contendo todas as mensagens MIDI) é mesclado com o DataFrame de rótulos (emopia_labels_unique) utilizando a coluna music_name como chave. Isso resulta no merged_df, onde cada mensagem MIDI agora carrega também o rótulo emocional de sua música. Isso é fundamental, pois permite associar as características de áudio (ou MIDI) com a emoção.\n",
        "\n",
        "\n",
        "*   engenharia de features: Criaçao de novas features, como densidade, proporção de eventos e variaçao ritmica. Agrupa o merged_df por música e calcula diversas características estatísticas (como total de eventos, duração, pitch médio, velocidade, etc.) para cada música, consolidando os dados em um features_df onde cada linha representa uma música com suas features e o rótulo de emoção. É *importante* notar que, diferentemente dos DataFrames anteriores (combined_df e merged_df que têm uma linha por evento MIDI), no *features_df* cada linha realmente representa uma única música, contendo suas features agregadas e o rótulo de emoção correspondente.\n",
        "\n",
        "* Escalonamento/ Normalizaçao das features\n",
        "\n",
        "\n",
        "\n",
        "**features_df é salvo no Drive, sendo acessível e reutilizável em futuros Colab para as etapas de treinamento e avaliação de modelos de IA**\n",
        "\n",
        "**MyDrive/INF 420 - IA/TRABALHO FINAL/dados_processados/emopia_features_with_labels.pkl'**"
      ],
      "metadata": {
        "id": "Q6YlD-OpS58I"
      }
    },
    {
      "cell_type": "code",
      "source": [
        "import pandas as pd\n",
        "import os\n",
        "from google.colab import drive\n",
        "from sklearn.preprocessing import StandardScaler, MinMaxScaler"
      ],
      "metadata": {
        "id": "rtgU55MBdNCN"
      },
      "execution_count": null,
      "outputs": []
    },
    {
      "cell_type": "code",
      "source": [
        "try:\n",
        "    drive.mount('/content/drive')\n",
        "    print(\"Google Drive montado com sucesso.\")\n",
        "except Exception as e:\n",
        "    print(f\"Erro ao montar o Google Drive (pode já estar montado): {e}\")"
      ],
      "metadata": {
        "colab": {
          "base_uri": "https://localhost:8080/"
        },
        "id": "HnR_17FtdRt7",
        "outputId": "76057d9b-776b-46e6-b6cd-406cdd716474"
      },
      "execution_count": null,
      "outputs": [
        {
          "output_type": "stream",
          "name": "stdout",
          "text": [
            "Erro ao montar o Google Drive (pode já estar montado): Error: credential propagation was unsuccessful\n"
          ]
        }
      ]
    },
    {
      "cell_type": "code",
      "source": [
        "# pasta onde os CSVs foram salvos\n",
        "#csv_output_folder = '/content/drive/MyDrive/INF 420 - IA/TRABALHO FINAL/musicas/CSV'\n",
        "csv_output_folder = '/content/drive/MyDrive/INF 420 - IA/TRABALHO FINAL/MUSICAS/EMOPIA/CSV'"
      ],
      "metadata": {
        "id": "biGdoz35dYaM"
      },
      "execution_count": null,
      "outputs": []
    },
    {
      "cell_type": "code",
      "source": [
        "# lista para armazenar cada DataFrame lido\n",
        "all_dataframes = []"
      ],
      "metadata": {
        "id": "AWFGUHgrdq2c"
      },
      "execution_count": null,
      "outputs": []
    },
    {
      "cell_type": "code",
      "execution_count": null,
      "metadata": {
        "colab": {
          "base_uri": "https://localhost:8080/"
        },
        "id": "7il5nz4LdIvG",
        "outputId": "b57cf43d-ead6-4de6-abc3-9ea0c5d2b296"
      },
      "outputs": [
        {
          "output_type": "stream",
          "name": "stdout",
          "text": [
            "Buscando arquivos CSV na pasta: /content/drive/MyDrive/INF 420 - IA/TRABALHO FINAL/MUSICAS/EMOPIA/CSV\n",
            "A pasta '/content/drive/MyDrive/INF 420 - IA/TRABALHO FINAL/MUSICAS/EMOPIA/CSV' não foi encontrada. Verifique o caminho ou se os CSVs foram gerados nela.\n"
          ]
        }
      ],
      "source": [
        "# iterar sobre os arquivos na pasta e carregar cada CSV\n",
        "print(f\"Buscando arquivos CSV na pasta: {csv_output_folder}\")\n",
        "if os.path.exists(csv_output_folder):\n",
        "    for filename in os.listdir(csv_output_folder):\n",
        "        if filename.lower().endswith('.csv'):\n",
        "            file_path = os.path.join(csv_output_folder, filename)\n",
        "            try:\n",
        "                df = pd.read_csv(file_path)\n",
        "\n",
        "                music_name = os.path.splitext(filename)[0]\n",
        "                df['music_name'] = music_name\n",
        "\n",
        "                all_dataframes.append(df)\n",
        "                print(f\"Carregado: {filename}\")\n",
        "            except Exception as e:\n",
        "                print(f\"Erro ao carregar '{filename}': {e}\")\n",
        "\n",
        "    if all_dataframes:\n",
        "        combined_df = pd.concat(all_dataframes, ignore_index=True)\n",
        "        print(\"\\nTodos os CSVs foram combinados em um único DataFrame.\")\n",
        "        print(f\"Formato do DataFrame combinado: {combined_df.shape}\")\n",
        "        #print(\"Primeiras 5 linhas do DataFrame combinado:\")\n",
        "        #print(combined_df.head())\n",
        "        #print(\"\\nInformações sobre as colunas e tipos de dados:\")\n",
        "        #combined_df.info()\n",
        "\n",
        "        # combined_df contem os dados de todas as suas musicas MIDI em um formato tabular pronto para a engenharia de features\n",
        "    else:\n",
        "        print(\"Nenhum arquivo CSV encontrado na pasta especificada ou erro ao carregar.\")\n",
        "else:\n",
        "    print(f\"A pasta '{csv_output_folder}' não foi encontrada. Verifique o caminho ou se os CSVs foram gerados nela.\")"
      ]
    },
    {
      "cell_type": "code",
      "source": [
        "combined_df.shape"
      ],
      "metadata": {
        "colab": {
          "base_uri": "https://localhost:8080/",
          "height": 141
        },
        "id": "WStzYizr-nh5",
        "outputId": "b7e47cf5-85df-4a5d-e5a1-d54c7eb98057"
      },
      "execution_count": null,
      "outputs": [
        {
          "output_type": "error",
          "ename": "NameError",
          "evalue": "name 'combined_df' is not defined",
          "traceback": [
            "\u001b[0;31m---------------------------------------------------------------------------\u001b[0m",
            "\u001b[0;31mNameError\u001b[0m                                 Traceback (most recent call last)",
            "\u001b[0;32m/tmp/ipython-input-6-1514096577.py\u001b[0m in \u001b[0;36m<cell line: 0>\u001b[0;34m()\u001b[0m\n\u001b[0;32m----> 1\u001b[0;31m \u001b[0mcombined_df\u001b[0m\u001b[0;34m.\u001b[0m\u001b[0mshape\u001b[0m\u001b[0;34m\u001b[0m\u001b[0;34m\u001b[0m\u001b[0m\n\u001b[0m",
            "\u001b[0;31mNameError\u001b[0m: name 'combined_df' is not defined"
          ]
        }
      ]
    },
    {
      "cell_type": "code",
      "source": [
        "combined_df.tail(5)"
      ],
      "metadata": {
        "id": "r5EmqbXceOrm"
      },
      "execution_count": null,
      "outputs": []
    },
    {
      "cell_type": "code",
      "source": [
        "combined_df.head(5)"
      ],
      "metadata": {
        "id": "e_EGDNhXe3p0"
      },
      "execution_count": null,
      "outputs": []
    },
    {
      "cell_type": "code",
      "source": [
        "#ver quantas musicas tem\n",
        "print(combined_df['music_name'].unique())\n",
        "print(f\"Total de músicas únicas carregadas: {len(combined_df['music_name'].unique())}\")"
      ],
      "metadata": {
        "id": "52wzrlCZfDuD"
      },
      "execution_count": null,
      "outputs": []
    },
    {
      "cell_type": "markdown",
      "source": [
        "# USANDO label.csv"
      ],
      "metadata": {
        "id": "D47l1eUzN7wc"
      }
    },
    {
      "cell_type": "markdown",
      "source": [
        "* Drive: acessa os arquivos do dataset EMOPIA\n",
        "* carrega o arquivo label.csv, que contém os rótulos emocionais associados a cada música do dataset\n",
        "* processa esse arquivo de rótulos, coluna de id da música --> music_name e extraindo a categoria emocional (Q1, Q2, Q3, Q4) diretamente do nome de cada arquivo\n",
        "* fusão desses rótulos emocionais com o combined_df, contém todas as mensagens MIDI de cada música\n",
        "\n",
        "* Agora, cada mensagem MIDI ta diretamente associada ao quadrante emocional da música"
      ],
      "metadata": {
        "id": "6c_USjkOP2CK"
      }
    },
    {
      "cell_type": "code",
      "source": [
        "try:\n",
        "    drive.mount('/content/drive')\n",
        "except Exception as e:\n",
        "    print(f\"Drive already mounted or error: {e}\")\n",
        "\n",
        "\n",
        "emopia_labels_path = '/content/drive/MyDrive/INF 420 - IA/TRABALHO FINAL/EMOPIA_1.0/EMOPIA_1.0/label.csv'\n",
        "\n",
        "if os.path.exists(emopia_labels_path):\n",
        "    emopia_labels_df = pd.read_csv(emopia_labels_path)\n",
        "    print(\"DataFrame de rótulos EMOPIA (label.csv) carregado com sucesso.\")\n",
        "    print(\"Primeiras 5 linhas do DataFrame de rótulos:\")\n",
        "    print(emopia_labels_df.head())\n",
        "    print(f\"Colunas do DataFrame de rótulos: {emopia_labels_df.columns.tolist()}\")\n",
        "else:\n",
        "    print(f\"ERRO: Arquivo de rótulos EMOPIA (label.csv) NÃO FOI ENCONTRADO em: {emopia_labels_path}\")\n",
        "    exit()\n",
        "\n",
        "# --- PREPARAÇÃO PARA O MERGE ---\n",
        "\n",
        "# renomear a coluna 'ID' para 'music_name'\n",
        "# rodando pela segunda vez: ja trocou nome\n",
        "\n",
        "#emopia_labels_df = emopia_labels_df.rename(columns={'ID': 'music_name'})\n",
        "\n",
        "# extrair emoção (Q1, Q2, Q3, Q4) da coluna 'music_name'\n",
        "emopia_labels_df['emotion_quadrant'] = emopia_labels_df['music_name'].str.split('_').str[0]\n",
        "\n",
        "\n",
        "emopia_labels_unique = emopia_labels_df[['music_name', 'emotion_quadrant']].drop_duplicates()\n",
        "\n",
        "print(\"\\nDataFrame de rótulos preparado para merge:\")\n",
        "print(emopia_labels_unique.head())\n",
        "print(f\"Número de músicas únicas no DataFrame de rótulos: {len(emopia_labels_unique)}\")\n",
        "\n",
        "merged_df = pd.merge(combined_df, emopia_labels_unique, on='music_name', how='left')\n",
        "\n",
        "\n",
        "print(\"\\nDataFrame combinado com rótulos emocionais (merged_df):\")\n",
        "print(f\"Formato do DataFrame merged_df: {merged_df.shape}\")\n",
        "print(\"Primeiras 10 linhas do DataFrame merged_df (com rótulos):\")\n",
        "print(merged_df.head(10))\n",
        "\n",
        "# verifica se todas as músicas encontraram um rótulo\n",
        "nan_labels = merged_df['emotion_quadrant'].isnull().sum()\n",
        "if nan_labels > 0:\n",
        "    print(f\"\\nATENÇÃO: {nan_labels} linhas no merged_df têm rótulos ausentes (NaN) na coluna 'emotion_quadrant'.\")\n",
        "    print(\"Isso pode indicar que algumas músicas no seu combined_df não foram encontradas no label.csv.\")\n",
        "else:\n",
        "    print(\"\\nTodos os arquivos MIDI no combined_df foram rotulados com sucesso!\")\n",
        "\n",
        "print(\"\\nContagem de músicas por quadrante de emoção:\")\n",
        "print(merged_df['emotion_quadrant'].value_counts())"
      ],
      "metadata": {
        "id": "ptPrmSHtPFxY"
      },
      "execution_count": null,
      "outputs": []
    },
    {
      "cell_type": "markdown",
      "source": [
        "# ENGENHARIA DE FEATURES\n",
        "\n",
        "salvar para um novo colab o dataFrame features_df\n",
        "\n",
        "ADICIONANDO NOVAS FEATURES\n",
        "\n",
        "- note_density (Densidade de Notas)\n",
        "  - total_midi_events / duration\n",
        "- note_on_proportion (Proporção de Eventos Note_On)\n",
        "  - num_note_on_events / total_midi_events\n",
        "- std_time_diff_between_notes (Variação Rítmica)\n",
        "  - Calcula a diferença entre os times de eventos note_on consecutivos usando diff() e retorna o desvio padrão dessas diferenças de tempo\n",
        "\n",
        "AGRUPANDO CADA LINHA POR UMA MUSICA\n",
        "\n",
        " - a estratégia de primeiro decompor a música em seus eventos MIDI individuais e depois agregá-los novamente em um features_df permite extrair uma riqueza de informações descritivas da música que seria impossível obter com uma representação mais simplificada desde o início. Isso aumenta a qualidade e a relevância das features para o modelo de IA, melhorando as chances de aprender e prever corretamente a emoção associada à música."
      ],
      "metadata": {
        "id": "AKEtrVFfXD6t"
      }
    },
    {
      "cell_type": "code",
      "source": [
        "# agrupar por music_name e extrair features\n",
        "features_df = merged_df.groupby('music_name').agg(\n",
        "    total_midi_events=('type', 'count'),\n",
        "    duration=('time', lambda x: x.max() if x.max() > 0 else 0),\n",
        "    num_unique_tracks=('track', 'nunique'),\n",
        "    num_unique_channels=('channel', 'nunique'),\n",
        "    avg_note_pitch=('note', 'mean'),\n",
        "    std_note_pitch=('note', 'std'),\n",
        "    min_note_pitch=('note', 'min'),\n",
        "    max_note_pitch=('note', 'max'),\n",
        "    pitch_range=('note', lambda x: x.max() - x.min() if pd.notna(x.max()) and pd.notna(x.min()) else 0), # Melhorar o tratamento de NaNs para pitch_range\n",
        "    avg_note_velocity=('velocity', 'mean'),\n",
        "    std_note_velocity=('velocity', 'std'),\n",
        "    num_note_on_events=('type', lambda x: (x == 'note_on').sum()),\n",
        "    num_note_off_events=('type', lambda x: (x == 'note_off').sum()),\n",
        "    num_set_tempo_events=('type', lambda x: (x == 'set_tempo').sum()),\n",
        "    emotion_quadrant=('emotion_quadrant', 'first')\n",
        ").reset_index()\n",
        "\n",
        "# ----------------- NOVAS FEATURES -------------------\n",
        "\n",
        "# Densidade de notas: total_midi_events / duration\n",
        "# garantir que 'duration' != zero\n",
        "features_df['note_density'] = features_df.apply(\n",
        "    lambda row: row['total_midi_events'] / row['duration'] if row['duration'] > 0 else 0,\n",
        "    axis=1\n",
        ")\n",
        "\n",
        "\n",
        "# Proporção de eventos note_on: num_note_on_events / total_midi_events\n",
        "# 'total_midi_events' não seja zero\n",
        "features_df['note_on_proportion'] = features_df.apply(\n",
        "    lambda row: row['num_note_on_events'] / row['total_midi_events'] if row['total_midi_events'] > 0 else 0,\n",
        "    axis=1\n",
        ")\n",
        "\n",
        "\n",
        "# Variação rítmica: std_time_diff_between_notes\n",
        "# passo adicional: precisa do 'time' dos eventos 'note_on' para cada musica\n",
        "\n",
        "def calculate_rhythmic_std(group):\n",
        "    # Filtra apenas eventos 'note_on'\n",
        "    note_on_times = group[group['type'] == 'note_on']['time']\n",
        "    if len(note_on_times) > 1:\n",
        "        time_diffs = note_on_times.diff().dropna()\n",
        "        if len(time_diffs) > 0:\n",
        "            return time_diffs.std()\n",
        "    return 0\n",
        "\n",
        "\n",
        "rhythmic_std = merged_df.groupby('music_name').apply(calculate_rhythmic_std).reset_index(name='std_time_diff_between_notes')\n",
        "\n",
        "\n",
        "features_df = pd.merge(features_df, rhythmic_std, on='music_name', how='left')\n",
        "\n",
        "\n",
        "features_df['std_time_diff_between_notes'] = features_df['std_time_diff_between_notes'].fillna(0)\n",
        "\n",
        "\n",
        "\n",
        "\n",
        "# NaNs --> 0 para features numéricas, exceto para 'emotion_quadrant'\n",
        "# 'pitch_range' e 'std_note_pitch' podem ser NaN se houver poucas notas.\n",
        "for col in ['avg_note_pitch', 'std_note_pitch', 'min_note_pitch', 'max_note_pitch', 'pitch_range',\n",
        "            'avg_note_velocity', 'std_note_velocity', 'note_density', 'note_on_proportion', 'std_time_diff_between_notes']:\n",
        "    if col in features_df.columns:\n",
        "        features_df[col] = features_df[col].fillna(0)\n",
        "\n",
        "\n",
        "print(\"\\nDataFrame de Features por Música (features_df):\")\n",
        "print(f\"Formato do DataFrame features_df: {features_df.shape}\")\n",
        "print(\"Primeiras 5 linhas do DataFrame features_df:\")\n",
        "print(features_df.head())\n",
        "\n",
        "print(\"\\nContagem de Músicas por Quadrante no features_df:\")\n",
        "print(features_df['emotion_quadrant'].value_counts())\n",
        "print(f\"Total de músicas únicas no features_df: {len(features_df)}\")\n"
      ],
      "metadata": {
        "id": "r4XyKcUJW5_Y"
      },
      "execution_count": null,
      "outputs": []
    },
    {
      "cell_type": "code",
      "source": [
        "features_df.shape"
      ],
      "metadata": {
        "id": "twbndTuG5ilU"
      },
      "execution_count": null,
      "outputs": []
    },
    {
      "cell_type": "markdown",
      "source": [
        "# Escalonamento/Normalização das Features\n",
        "\n",
        "- garante que as características (features) com diferentes escalas e intervalos de valores contribuam de forma equitativa para o treinamento dos modelos.  \n",
        "\n",
        "  - Muitos algoritmos são sensíveis à escala das features; sem esse processamento, características com valores maiores poderiam dominar o processo de aprendizado, distorcendo os resultados e prejudicando a performance do modelo.\n",
        "  - Ao aplicar o StandardScaler, as features são transformadas para ter uma média de zero e um desvio padrão de um, padronizando-as e otimizando o desempenho dos algoritmos subsequentes."
      ],
      "metadata": {
        "id": "8p6hizb7gSGZ"
      }
    },
    {
      "cell_type": "code",
      "source": [
        "numeric_features = features_df.select_dtypes(include=['number']).columns.tolist()\n",
        "\n",
        "scaler = StandardScaler()\n",
        "features_df[numeric_features] = scaler.fit_transform(features_df[numeric_features])\n",
        "\n",
        "\n",
        "print(\"\\nDataFrame de Features Escaladas (features_df):\")\n",
        "print(features_df.head())"
      ],
      "metadata": {
        "id": "hHACy4F3eruw"
      },
      "execution_count": null,
      "outputs": []
    },
    {
      "cell_type": "markdown",
      "source": [
        "# salvar no drive"
      ],
      "metadata": {
        "id": "SOs4Rlx5n39X"
      }
    },
    {
      "cell_type": "code",
      "source": [
        "output_directory = '/content/drive/MyDrive/INF 420 - IA/TRABALHO FINAL/dados_processados/'\n",
        "output_filename = 'emopia_features_with_labels.pkl' # 2 opçoes: .pkl ou .parquet\n",
        "output_path = os.path.join(output_directory, output_filename)\n",
        "\n",
        "os.makedirs(output_directory, exist_ok=True)\n",
        "\n",
        "features_df.to_pickle(output_path)  # .pkl\n",
        "# Ou: features_df.to_parquet(output_path, index=False) # Para .parquet (requer `pip install pyarrow`)\n",
        "\n",
        "print(f\"\\nDataFrame de features salvo com sucesso em: {output_path}\")"
      ],
      "metadata": {
        "id": "t5P-Muu_uSQd"
      },
      "execution_count": null,
      "outputs": []
    },
    {
      "cell_type": "code",
      "source": [
        "output_directory = '/content/drive/MyDrive/INF 420 - IA/TRABALHO FINAL/dados_processados/'\n",
        "output_filename_csv = 'emopia_features_with_labels.csv'\n",
        "output_path_csv = os.path.join(output_directory, output_filename_csv)\n",
        "features_df.to_csv(output_path_csv, index=False)\n",
        "print(f\"DataFrame de features salvo em CSV: {output_path_csv}\")"
      ],
      "metadata": {
        "id": "hkTYkMSP-H9i"
      },
      "execution_count": null,
      "outputs": []
    }
  ]
}